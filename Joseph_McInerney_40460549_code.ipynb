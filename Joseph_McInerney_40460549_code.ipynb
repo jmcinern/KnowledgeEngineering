{
 "cells": [
  {
   "cell_type": "markdown",
   "id": "0c539716-3a3a-4bea-b7bb-c7f8cdb56cdb",
   "metadata": {},
   "source": [
    "# Joseph McInerney - Knowledge Engineering"
   ]
  },
  {
   "cell_type": "code",
   "execution_count": 1,
   "id": "b4461dd9-a1d8-4593-acb4-44f9cf6c2930",
   "metadata": {},
   "outputs": [],
   "source": [
    "# Set random seed to student number to allow for the reproduction of results.\n",
    "random_seed = 40460549"
   ]
  },
  {
   "cell_type": "code",
   "execution_count": 2,
   "id": "e7de2fef-a672-4de2-bea8-f558a46a6fc8",
   "metadata": {},
   "outputs": [
    {
     "name": "stdout",
     "output_type": "stream",
     "text": [
      "Requirement already satisfied: pandas in c:\\users\\josep\\anaconda3\\lib\\site-packages (from -r Joseph_McInerney_40460549_requirements.txt (line 1)) (2.2.2)\n",
      "Requirement already satisfied: d3graph in c:\\users\\josep\\anaconda3\\lib\\site-packages (from -r Joseph_McInerney_40460549_requirements.txt (line 2)) (2.5.0)\n",
      "Requirement already satisfied: numpy>=1.26.0 in c:\\users\\josep\\anaconda3\\lib\\site-packages (from pandas->-r Joseph_McInerney_40460549_requirements.txt (line 1)) (1.26.4)\n",
      "Requirement already satisfied: python-dateutil>=2.8.2 in c:\\users\\josep\\anaconda3\\lib\\site-packages (from pandas->-r Joseph_McInerney_40460549_requirements.txt (line 1)) (2.9.0.post0)\n",
      "Requirement already satisfied: pytz>=2020.1 in c:\\users\\josep\\anaconda3\\lib\\site-packages (from pandas->-r Joseph_McInerney_40460549_requirements.txt (line 1)) (2024.1)\n",
      "Requirement already satisfied: tzdata>=2022.7 in c:\\users\\josep\\anaconda3\\lib\\site-packages (from pandas->-r Joseph_McInerney_40460549_requirements.txt (line 1)) (2023.3)\n",
      "Requirement already satisfied: colourmap in c:\\users\\josep\\anaconda3\\lib\\site-packages (from d3graph->-r Joseph_McInerney_40460549_requirements.txt (line 2)) (1.1.17)\n",
      "Requirement already satisfied: networkx>2 in c:\\users\\josep\\anaconda3\\lib\\site-packages (from d3graph->-r Joseph_McInerney_40460549_requirements.txt (line 2)) (3.2.1)\n",
      "Requirement already satisfied: ismember in c:\\users\\josep\\anaconda3\\lib\\site-packages (from d3graph->-r Joseph_McInerney_40460549_requirements.txt (line 2)) (1.0.5)\n",
      "Requirement already satisfied: jinja2 in c:\\users\\josep\\anaconda3\\lib\\site-packages (from d3graph->-r Joseph_McInerney_40460549_requirements.txt (line 2)) (3.1.4)\n",
      "Requirement already satisfied: packaging in c:\\users\\josep\\anaconda3\\lib\\site-packages (from d3graph->-r Joseph_McInerney_40460549_requirements.txt (line 2)) (23.2)\n",
      "Requirement already satisfied: markupsafe==2.0.1 in c:\\users\\josep\\anaconda3\\lib\\site-packages (from d3graph->-r Joseph_McInerney_40460549_requirements.txt (line 2)) (2.0.1)\n",
      "Requirement already satisfied: python-louvain in c:\\users\\josep\\anaconda3\\lib\\site-packages (from d3graph->-r Joseph_McInerney_40460549_requirements.txt (line 2)) (0.16)\n",
      "Requirement already satisfied: datazets in c:\\users\\josep\\anaconda3\\lib\\site-packages (from d3graph->-r Joseph_McInerney_40460549_requirements.txt (line 2)) (0.2.0)\n",
      "Requirement already satisfied: six>=1.5 in c:\\users\\josep\\anaconda3\\lib\\site-packages (from python-dateutil>=2.8.2->pandas->-r Joseph_McInerney_40460549_requirements.txt (line 1)) (1.16.0)\n",
      "Requirement already satisfied: matplotlib in c:\\users\\josep\\anaconda3\\lib\\site-packages (from colourmap->d3graph->-r Joseph_McInerney_40460549_requirements.txt (line 2)) (3.8.4)\n",
      "Requirement already satisfied: requests in c:\\users\\josep\\anaconda3\\lib\\site-packages (from datazets->d3graph->-r Joseph_McInerney_40460549_requirements.txt (line 2)) (2.32.2)\n",
      "Requirement already satisfied: contourpy>=1.0.1 in c:\\users\\josep\\anaconda3\\lib\\site-packages (from matplotlib->colourmap->d3graph->-r Joseph_McInerney_40460549_requirements.txt (line 2)) (1.2.0)\n",
      "Requirement already satisfied: cycler>=0.10 in c:\\users\\josep\\anaconda3\\lib\\site-packages (from matplotlib->colourmap->d3graph->-r Joseph_McInerney_40460549_requirements.txt (line 2)) (0.11.0)\n",
      "Requirement already satisfied: fonttools>=4.22.0 in c:\\users\\josep\\anaconda3\\lib\\site-packages (from matplotlib->colourmap->d3graph->-r Joseph_McInerney_40460549_requirements.txt (line 2)) (4.51.0)\n",
      "Requirement already satisfied: kiwisolver>=1.3.1 in c:\\users\\josep\\anaconda3\\lib\\site-packages (from matplotlib->colourmap->d3graph->-r Joseph_McInerney_40460549_requirements.txt (line 2)) (1.4.4)\n",
      "Requirement already satisfied: pillow>=8 in c:\\users\\josep\\anaconda3\\lib\\site-packages (from matplotlib->colourmap->d3graph->-r Joseph_McInerney_40460549_requirements.txt (line 2)) (10.3.0)\n",
      "Requirement already satisfied: pyparsing>=2.3.1 in c:\\users\\josep\\anaconda3\\lib\\site-packages (from matplotlib->colourmap->d3graph->-r Joseph_McInerney_40460549_requirements.txt (line 2)) (3.0.9)\n",
      "Requirement already satisfied: charset-normalizer<4,>=2 in c:\\users\\josep\\anaconda3\\lib\\site-packages (from requests->datazets->d3graph->-r Joseph_McInerney_40460549_requirements.txt (line 2)) (2.0.4)\n",
      "Requirement already satisfied: idna<4,>=2.5 in c:\\users\\josep\\anaconda3\\lib\\site-packages (from requests->datazets->d3graph->-r Joseph_McInerney_40460549_requirements.txt (line 2)) (3.7)\n",
      "Requirement already satisfied: urllib3<3,>=1.21.1 in c:\\users\\josep\\anaconda3\\lib\\site-packages (from requests->datazets->d3graph->-r Joseph_McInerney_40460549_requirements.txt (line 2)) (2.2.2)\n",
      "Requirement already satisfied: certifi>=2017.4.17 in c:\\users\\josep\\anaconda3\\lib\\site-packages (from requests->datazets->d3graph->-r Joseph_McInerney_40460549_requirements.txt (line 2)) (2024.8.30)\n"
     ]
    }
   ],
   "source": [
    "!pip install -r Joseph_McInerney_40460549_requirements.txt"
   ]
  },
  {
   "cell_type": "code",
   "execution_count": 3,
   "id": "d75e9c53-d5c1-4c3a-96e9-06de30150f41",
   "metadata": {},
   "outputs": [],
   "source": [
    "# Imported Libraries\n",
    "import pandas as pd\n",
    "from d3graph import d3graph, vec2adjmat # for ontology graph visual\n",
    "from collections import deque #bfs"
   ]
  },
  {
   "cell_type": "markdown",
   "id": "40aa3a8e-6532-4898-9c4e-42216acbbc23",
   "metadata": {},
   "source": [
    "Load data"
   ]
  },
  {
   "cell_type": "code",
   "execution_count": 4,
   "id": "825232cf-bdf7-4f18-8cba-92519f18c449",
   "metadata": {},
   "outputs": [
    {
     "name": "stderr",
     "output_type": "stream",
     "text": [
      "C:\\Users\\josep\\AppData\\Local\\Temp\\ipykernel_11936\\324444230.py:1: DtypeWarning: Columns (3,8) have mixed types. Specify dtype option on import or set low_memory=False.\n",
      "  kg = pd.read_csv('./data/kg.csv')\n"
     ]
    }
   ],
   "source": [
    "kg = pd.read_csv('./data/kg.csv')"
   ]
  },
  {
   "cell_type": "markdown",
   "id": "4f627383-4168-43ae-b44b-49a24ff2c5d7",
   "metadata": {},
   "source": [
    "# Part 1: Data Exploration"
   ]
  },
  {
   "cell_type": "code",
   "execution_count": 5,
   "id": "8e3ab01e-03f1-48d4-bd18-6775242e1e2e",
   "metadata": {},
   "outputs": [
    {
     "data": {
      "text/html": [
       "<div>\n",
       "<style scoped>\n",
       "    .dataframe tbody tr th:only-of-type {\n",
       "        vertical-align: middle;\n",
       "    }\n",
       "\n",
       "    .dataframe tbody tr th {\n",
       "        vertical-align: top;\n",
       "    }\n",
       "\n",
       "    .dataframe thead th {\n",
       "        text-align: right;\n",
       "    }\n",
       "</style>\n",
       "<table border=\"1\" class=\"dataframe\">\n",
       "  <thead>\n",
       "    <tr style=\"text-align: right;\">\n",
       "      <th></th>\n",
       "      <th>relation</th>\n",
       "      <th>display_relation</th>\n",
       "      <th>x_index</th>\n",
       "      <th>x_id</th>\n",
       "      <th>x_type</th>\n",
       "      <th>x_name</th>\n",
       "      <th>x_source</th>\n",
       "      <th>y_index</th>\n",
       "      <th>y_id</th>\n",
       "      <th>y_type</th>\n",
       "      <th>y_name</th>\n",
       "      <th>y_source</th>\n",
       "    </tr>\n",
       "  </thead>\n",
       "  <tbody>\n",
       "    <tr>\n",
       "      <th>0</th>\n",
       "      <td>protein_protein</td>\n",
       "      <td>ppi</td>\n",
       "      <td>0</td>\n",
       "      <td>9796</td>\n",
       "      <td>gene/protein</td>\n",
       "      <td>PHYHIP</td>\n",
       "      <td>NCBI</td>\n",
       "      <td>8889</td>\n",
       "      <td>56992</td>\n",
       "      <td>gene/protein</td>\n",
       "      <td>KIF15</td>\n",
       "      <td>NCBI</td>\n",
       "    </tr>\n",
       "    <tr>\n",
       "      <th>1</th>\n",
       "      <td>protein_protein</td>\n",
       "      <td>ppi</td>\n",
       "      <td>1</td>\n",
       "      <td>7918</td>\n",
       "      <td>gene/protein</td>\n",
       "      <td>GPANK1</td>\n",
       "      <td>NCBI</td>\n",
       "      <td>2798</td>\n",
       "      <td>9240</td>\n",
       "      <td>gene/protein</td>\n",
       "      <td>PNMA1</td>\n",
       "      <td>NCBI</td>\n",
       "    </tr>\n",
       "    <tr>\n",
       "      <th>2</th>\n",
       "      <td>protein_protein</td>\n",
       "      <td>ppi</td>\n",
       "      <td>2</td>\n",
       "      <td>8233</td>\n",
       "      <td>gene/protein</td>\n",
       "      <td>ZRSR2</td>\n",
       "      <td>NCBI</td>\n",
       "      <td>5646</td>\n",
       "      <td>23548</td>\n",
       "      <td>gene/protein</td>\n",
       "      <td>TTC33</td>\n",
       "      <td>NCBI</td>\n",
       "    </tr>\n",
       "    <tr>\n",
       "      <th>3</th>\n",
       "      <td>protein_protein</td>\n",
       "      <td>ppi</td>\n",
       "      <td>3</td>\n",
       "      <td>4899</td>\n",
       "      <td>gene/protein</td>\n",
       "      <td>NRF1</td>\n",
       "      <td>NCBI</td>\n",
       "      <td>11592</td>\n",
       "      <td>11253</td>\n",
       "      <td>gene/protein</td>\n",
       "      <td>MAN1B1</td>\n",
       "      <td>NCBI</td>\n",
       "    </tr>\n",
       "    <tr>\n",
       "      <th>4</th>\n",
       "      <td>protein_protein</td>\n",
       "      <td>ppi</td>\n",
       "      <td>4</td>\n",
       "      <td>5297</td>\n",
       "      <td>gene/protein</td>\n",
       "      <td>PI4KA</td>\n",
       "      <td>NCBI</td>\n",
       "      <td>2122</td>\n",
       "      <td>8601</td>\n",
       "      <td>gene/protein</td>\n",
       "      <td>RGS20</td>\n",
       "      <td>NCBI</td>\n",
       "    </tr>\n",
       "  </tbody>\n",
       "</table>\n",
       "</div>"
      ],
      "text/plain": [
       "          relation display_relation  x_index  x_id        x_type  x_name  \\\n",
       "0  protein_protein              ppi        0  9796  gene/protein  PHYHIP   \n",
       "1  protein_protein              ppi        1  7918  gene/protein  GPANK1   \n",
       "2  protein_protein              ppi        2  8233  gene/protein   ZRSR2   \n",
       "3  protein_protein              ppi        3  4899  gene/protein    NRF1   \n",
       "4  protein_protein              ppi        4  5297  gene/protein   PI4KA   \n",
       "\n",
       "  x_source  y_index   y_id        y_type  y_name y_source  \n",
       "0     NCBI     8889  56992  gene/protein   KIF15     NCBI  \n",
       "1     NCBI     2798   9240  gene/protein   PNMA1     NCBI  \n",
       "2     NCBI     5646  23548  gene/protein   TTC33     NCBI  \n",
       "3     NCBI    11592  11253  gene/protein  MAN1B1     NCBI  \n",
       "4     NCBI     2122   8601  gene/protein   RGS20     NCBI  "
      ]
     },
     "execution_count": 5,
     "metadata": {},
     "output_type": "execute_result"
    }
   ],
   "source": [
    "kg.head()"
   ]
  },
  {
   "cell_type": "code",
   "execution_count": 6,
   "id": "f53010ec-91df-4848-81b5-7b196d84b7f2",
   "metadata": {},
   "outputs": [],
   "source": [
    "# fix bug where populating graph has problems when x type and name are the same, so just append _name."
   ]
  },
  {
   "cell_type": "code",
   "execution_count": 7,
   "id": "9234d95d-df88-4712-a1b5-8127fffd7ba9",
   "metadata": {},
   "outputs": [],
   "source": [
    "# biological_process, molecular_function, cellular_component -> +_'name'\n",
    "mapping = {\n",
    "    'biological_process': 'biological_process_name',\n",
    "    'molecular_function': 'molecular_function_name',\n",
    "    'cellular_component': 'cellular_component_name'\n",
    "}\n",
    "\n",
    "# Apply the mapping to both columns\n",
    "kg['x_name'] = kg['x_name'].replace(mapping)\n",
    "kg['y_name'] = kg['y_name'].replace(mapping)"
   ]
  },
  {
   "cell_type": "markdown",
   "id": "280b07dd-b947-4817-af45-10b00d519ea6",
   "metadata": {},
   "source": [
    "## 1.1 How many different types of relation, and how many of each type of relation?"
   ]
  },
  {
   "cell_type": "code",
   "execution_count": 8,
   "id": "607e88a7-73d2-4d25-a01b-c562496da1e3",
   "metadata": {},
   "outputs": [
    {
     "name": "stdout",
     "output_type": "stream",
     "text": [
      "Number of different relations: 30\n"
     ]
    }
   ],
   "source": [
    "# The number of different types of relation.\n",
    "num_diff_relations = kg['relation'].nunique()\n",
    "print(f'Number of different relations: {num_diff_relations}')"
   ]
  },
  {
   "cell_type": "code",
   "execution_count": 9,
   "id": "bebd9cf1-a365-466a-8444-f73691c77f6b",
   "metadata": {},
   "outputs": [
    {
     "name": "stdout",
     "output_type": "stream",
     "text": [
      "relation\n",
      "anatomy_protein_present       3036406\n",
      "drug_drug                     2672628\n",
      "protein_protein                642150\n",
      "disease_phenotype_positive     300634\n",
      "bioprocess_protein             289610\n",
      "cellcomp_protein               166804\n",
      "disease_protein                160822\n",
      "molfunc_protein                139060\n",
      "drug_effect                    129568\n",
      "bioprocess_bioprocess          105772\n",
      "pathway_protein                 85292\n",
      "disease_disease                 64388\n",
      "contraindication                61350\n",
      "drug_protein                    51306\n",
      "anatomy_protein_absent          39774\n",
      "phenotype_phenotype             37472\n",
      "anatomy_anatomy                 28064\n",
      "molfunc_molfunc                 27148\n",
      "indication                      18776\n",
      "cellcomp_cellcomp                9690\n",
      "phenotype_protein                6660\n",
      "off-label use                    5136\n",
      "pathway_pathway                  5070\n",
      "exposure_disease                 4608\n",
      "exposure_exposure                4140\n",
      "exposure_bioprocess              3250\n",
      "exposure_protein                 2424\n",
      "disease_phenotype_negative       2386\n",
      "exposure_molfunc                   90\n",
      "exposure_cellcomp                  20\n",
      "Name: count, dtype: int64\n",
      "Total: 8100498\n"
     ]
    }
   ],
   "source": [
    "# The number of each type of relation there is.\n",
    "count_per_relation = kg['relation'].value_counts()\n",
    "print(count_per_relation)\n",
    "print(f'Total: {count_per_relation.sum()}')"
   ]
  },
  {
   "cell_type": "markdown",
   "id": "2d8728c4-4ad0-4643-a8f4-3079b5ff7cf2",
   "metadata": {},
   "source": [
    "## 1.2 How many different types of nodes, and how many of each type are there? "
   ]
  },
  {
   "cell_type": "code",
   "execution_count": 10,
   "id": "c0df739b-ed5f-44ad-a327-b30e126b1996",
   "metadata": {},
   "outputs": [
    {
     "name": "stdout",
     "output_type": "stream",
     "text": [
      "Number of different nodes: 10\n",
      "Nodes: ['gene/protein' 'drug' 'effect/phenotype' 'disease' 'biological_process'\n",
      " 'molecular_function' 'cellular_component' 'exposure' 'pathway' 'anatomy']\n"
     ]
    }
   ],
   "source": [
    "# The number of different types of node.\n",
    "num_diff_nodes = kg['x_type'].nunique()\n",
    "print(f'Number of different nodes: {num_diff_nodes}')\n",
    "node_types = kg['x_type'].unique()\n",
    "print(f'Nodes: {node_types}')"
   ]
  },
  {
   "cell_type": "code",
   "execution_count": 11,
   "id": "096bd949-85a8-492b-b157-c7264f3e6bba",
   "metadata": {},
   "outputs": [
    {
     "name": "stdout",
     "output_type": "stream",
     "text": [
      "x_type\n",
      "drug                  2805696\n",
      "gene/protein          2631229\n",
      "anatomy               1566154\n",
      "disease                341244\n",
      "effect/phenotype       257096\n",
      "biological_process     252202\n",
      "molecular_function      96723\n",
      "cellular_component      93102\n",
      "pathway                 47716\n",
      "exposure                 9336\n",
      "Name: count, dtype: int64\n"
     ]
    }
   ],
   "source": [
    "# inspection\n",
    "node_counts = kg['x_type'].value_counts()\n",
    "print(node_counts)"
   ]
  },
  {
   "cell_type": "code",
   "execution_count": 12,
   "id": "dcb368e6-38e2-4e07-9405-50bc0086cbb9",
   "metadata": {},
   "outputs": [
    {
     "name": "stdout",
     "output_type": "stream",
     "text": [
      "               x_type  count\n",
      "1  biological_process  28642\n",
      "7        gene/protein  27671\n",
      "3             disease  17080\n",
      "5    effect/phenotype  15311\n",
      "0             anatomy  14035\n",
      "8  molecular_function  11169\n",
      "4                drug   7957\n",
      "2  cellular_component   4176\n",
      "9             pathway   2516\n",
      "6            exposure    818\n",
      "129375\n"
     ]
    }
   ],
   "source": [
    "# Number of nodes\n",
    "node_type_counts = kg.groupby('x_type')['x_index'].nunique().reset_index(name='count')\n",
    "# sort\n",
    "node_type_counts = node_type_counts.sort_values(by='count', ascending=False)\n",
    "print(node_type_counts)\n",
    "print(node_type_counts['count'].sum())"
   ]
  },
  {
   "cell_type": "code",
   "execution_count": 13,
   "id": "1a6e493d-2193-4bee-a6ea-4bad64105a29",
   "metadata": {},
   "outputs": [
    {
     "name": "stdout",
     "output_type": "stream",
     "text": [
      "Total Unique nodes: 129375\n"
     ]
    }
   ],
   "source": [
    "# original paper: 129,375\n",
    "print(f'Total Unique nodes: {kg['x_index'].nunique()}' )"
   ]
  },
  {
   "cell_type": "markdown",
   "id": "a0d6e09e-41b5-429d-8c3b-076d95cab1c7",
   "metadata": {},
   "source": [
    "## 1.3 Comparison with Chanak 2023 \"Building a knowledge graph to enable precision medicine\""
   ]
  },
  {
   "cell_type": "code",
   "execution_count": 14,
   "id": "92846873-4c14-49d8-b7b0-1769ba5534c8",
   "metadata": {},
   "outputs": [],
   "source": [
    "# There are double the expected number of edges, explore why... directedness of edges?"
   ]
  },
  {
   "cell_type": "markdown",
   "id": "5fd62b7e-dcfe-4966-86e1-2951e5785221",
   "metadata": {},
   "source": [
    "## 1.4 For each type of node, sort the nodes of that type alphabetically by name, and list the index and name of the first three nodes in the sorted list."
   ]
  },
  {
   "cell_type": "code",
   "execution_count": 15,
   "id": "e8ae9c11-9b1e-4e6f-97ba-02a9da458a1c",
   "metadata": {},
   "outputs": [
    {
     "name": "stdout",
     "output_type": "stream",
     "text": [
      "            x_type   index                                                                      x_name\n",
      "           anatomy 3840031                                               1st arch mandibular component\n",
      "           anatomy 3842592                                                1st arch mandibular ectoderm\n",
      "           anatomy 3842593                                                1st arch mandibular endoderm\n",
      "biological_process 6161451                                          'de novo' AMP biosynthetic process\n",
      "biological_process 6405428                                          'de novo' AMP biosynthetic process\n",
      "biological_process 6405429                                          'de novo' AMP biosynthetic process\n",
      "cellular_component 6194209                                          1,3-beta-D-glucan synthase complex\n",
      "cellular_component 6194210                                          1,3-beta-D-glucan synthase complex\n",
      "cellular_component 6195455                      1-alkyl-2-acetylglycerophosphocholine esterase complex\n",
      "           disease 3348216                                     'psoriatic arthritis, susceptibility to\n",
      "           disease 6062059                                     'psoriatic arthritis, susceptibility to\n",
      "           disease 3198429                                      10q22.3q23.3 microduplication syndrome\n",
      "              drug  327434                                            (+)-2-(4-biphenyl)propionic acid\n",
      "              drug  332953                                                       (+)-Rutamarin alcohol\n",
      "              drug  336477                     (1'R,2'S)-9-(2-Hydroxy-3'-Keto-Cyclopenten-1-yl)Adenine\n",
      "  effect/phenotype 5788650                                                       1-2 finger syndactyly\n",
      "  effect/phenotype 5932029                                                       1-2 finger syndactyly\n",
      "  effect/phenotype 5783695                                       1-2 toe complete cutaneous syndactyly\n",
      "          exposure 3783373                                                       1,1,1-trichloroethane\n",
      "          exposure 6499608                                                       1,1,1-trichloroethane\n",
      "          exposure 6501443                                                       1,1,1-trichloroethane\n",
      "      gene/protein   22646                                                                        A1BG\n",
      "      gene/protein   32327                                                                        A1BG\n",
      "      gene/protein   41615                                                                        A1BG\n",
      "molecular_function 6180479                                      (+)-2-epi-prezizaene synthase activity\n",
      "molecular_function 6180607                                   (+)-abscisic acid 8'-hydroxylase activity\n",
      "molecular_function 6188956 (+)-abscisic acid D-glucopyranosyl ester transmembrane transporter activity\n",
      "           pathway 6503545                                                      2-LTR circle formation\n",
      "           pathway 6508455                                                      2-LTR circle formation\n",
      "           pathway 6515767                                                      2-LTR circle formation\n"
     ]
    }
   ],
   "source": [
    "# Sort the nodes by type and name\n",
    "nodes_sorted = kg[['x_type', 'x_name']].sort_values(by=['x_type', 'x_name'])\n",
    "# Get the first three nodes for each x_type\n",
    "first_three_nodes = nodes_sorted.groupby('x_type').head(3)\n",
    "# Keep original index, .to_string to fit wide df in output.\n",
    "print(first_three_nodes[['x_type', 'x_name']].reset_index()[['x_type', 'index', 'x_name']].to_string(index=False))"
   ]
  },
  {
   "cell_type": "markdown",
   "id": "ed27bdda-0ccc-4cae-84eb-fde4cc9baa43",
   "metadata": {},
   "source": [
    "## 1.5 Produce a table that shows how often each type of node is in each type of relation. "
   ]
  },
  {
   "cell_type": "code",
   "execution_count": 16,
   "id": "65d2a265-0a48-417d-a10b-0614c5b13d51",
   "metadata": {},
   "outputs": [
    {
     "data": {
      "text/html": [
       "<div>\n",
       "<style scoped>\n",
       "    .dataframe tbody tr th:only-of-type {\n",
       "        vertical-align: middle;\n",
       "    }\n",
       "\n",
       "    .dataframe tbody tr th {\n",
       "        vertical-align: top;\n",
       "    }\n",
       "\n",
       "    .dataframe thead th {\n",
       "        text-align: right;\n",
       "    }\n",
       "</style>\n",
       "<table border=\"1\" class=\"dataframe\">\n",
       "  <thead>\n",
       "    <tr style=\"text-align: right;\">\n",
       "      <th></th>\n",
       "      <th>relation</th>\n",
       "      <th>x_type</th>\n",
       "      <th>count</th>\n",
       "    </tr>\n",
       "  </thead>\n",
       "  <tbody>\n",
       "    <tr>\n",
       "      <th>0</th>\n",
       "      <td>anatomy_anatomy</td>\n",
       "      <td>anatomy</td>\n",
       "      <td>28064</td>\n",
       "    </tr>\n",
       "    <tr>\n",
       "      <th>1</th>\n",
       "      <td>anatomy_protein_absent</td>\n",
       "      <td>anatomy</td>\n",
       "      <td>19887</td>\n",
       "    </tr>\n",
       "    <tr>\n",
       "      <th>2</th>\n",
       "      <td>anatomy_protein_absent</td>\n",
       "      <td>gene/protein</td>\n",
       "      <td>19887</td>\n",
       "    </tr>\n",
       "    <tr>\n",
       "      <th>3</th>\n",
       "      <td>anatomy_protein_present</td>\n",
       "      <td>anatomy</td>\n",
       "      <td>1518203</td>\n",
       "    </tr>\n",
       "    <tr>\n",
       "      <th>4</th>\n",
       "      <td>anatomy_protein_present</td>\n",
       "      <td>gene/protein</td>\n",
       "      <td>1518203</td>\n",
       "    </tr>\n",
       "    <tr>\n",
       "      <th>5</th>\n",
       "      <td>bioprocess_bioprocess</td>\n",
       "      <td>biological_process</td>\n",
       "      <td>105772</td>\n",
       "    </tr>\n",
       "    <tr>\n",
       "      <th>6</th>\n",
       "      <td>bioprocess_protein</td>\n",
       "      <td>biological_process</td>\n",
       "      <td>144805</td>\n",
       "    </tr>\n",
       "    <tr>\n",
       "      <th>7</th>\n",
       "      <td>bioprocess_protein</td>\n",
       "      <td>gene/protein</td>\n",
       "      <td>144805</td>\n",
       "    </tr>\n",
       "    <tr>\n",
       "      <th>8</th>\n",
       "      <td>cellcomp_cellcomp</td>\n",
       "      <td>cellular_component</td>\n",
       "      <td>9690</td>\n",
       "    </tr>\n",
       "    <tr>\n",
       "      <th>9</th>\n",
       "      <td>cellcomp_protein</td>\n",
       "      <td>cellular_component</td>\n",
       "      <td>83402</td>\n",
       "    </tr>\n",
       "    <tr>\n",
       "      <th>10</th>\n",
       "      <td>cellcomp_protein</td>\n",
       "      <td>gene/protein</td>\n",
       "      <td>83402</td>\n",
       "    </tr>\n",
       "    <tr>\n",
       "      <th>11</th>\n",
       "      <td>contraindication</td>\n",
       "      <td>disease</td>\n",
       "      <td>30675</td>\n",
       "    </tr>\n",
       "    <tr>\n",
       "      <th>12</th>\n",
       "      <td>contraindication</td>\n",
       "      <td>drug</td>\n",
       "      <td>30675</td>\n",
       "    </tr>\n",
       "    <tr>\n",
       "      <th>13</th>\n",
       "      <td>disease_disease</td>\n",
       "      <td>disease</td>\n",
       "      <td>64388</td>\n",
       "    </tr>\n",
       "    <tr>\n",
       "      <th>14</th>\n",
       "      <td>disease_phenotype_negative</td>\n",
       "      <td>disease</td>\n",
       "      <td>1193</td>\n",
       "    </tr>\n",
       "    <tr>\n",
       "      <th>15</th>\n",
       "      <td>disease_phenotype_negative</td>\n",
       "      <td>effect/phenotype</td>\n",
       "      <td>1193</td>\n",
       "    </tr>\n",
       "    <tr>\n",
       "      <th>16</th>\n",
       "      <td>disease_phenotype_positive</td>\n",
       "      <td>disease</td>\n",
       "      <td>150317</td>\n",
       "    </tr>\n",
       "    <tr>\n",
       "      <th>17</th>\n",
       "      <td>disease_phenotype_positive</td>\n",
       "      <td>effect/phenotype</td>\n",
       "      <td>150317</td>\n",
       "    </tr>\n",
       "    <tr>\n",
       "      <th>18</th>\n",
       "      <td>disease_protein</td>\n",
       "      <td>disease</td>\n",
       "      <td>80411</td>\n",
       "    </tr>\n",
       "    <tr>\n",
       "      <th>19</th>\n",
       "      <td>disease_protein</td>\n",
       "      <td>gene/protein</td>\n",
       "      <td>80411</td>\n",
       "    </tr>\n",
       "    <tr>\n",
       "      <th>20</th>\n",
       "      <td>drug_drug</td>\n",
       "      <td>drug</td>\n",
       "      <td>2672628</td>\n",
       "    </tr>\n",
       "    <tr>\n",
       "      <th>21</th>\n",
       "      <td>drug_effect</td>\n",
       "      <td>drug</td>\n",
       "      <td>64784</td>\n",
       "    </tr>\n",
       "    <tr>\n",
       "      <th>22</th>\n",
       "      <td>drug_effect</td>\n",
       "      <td>effect/phenotype</td>\n",
       "      <td>64784</td>\n",
       "    </tr>\n",
       "    <tr>\n",
       "      <th>23</th>\n",
       "      <td>drug_protein</td>\n",
       "      <td>drug</td>\n",
       "      <td>25653</td>\n",
       "    </tr>\n",
       "    <tr>\n",
       "      <th>24</th>\n",
       "      <td>drug_protein</td>\n",
       "      <td>gene/protein</td>\n",
       "      <td>25653</td>\n",
       "    </tr>\n",
       "    <tr>\n",
       "      <th>25</th>\n",
       "      <td>exposure_bioprocess</td>\n",
       "      <td>biological_process</td>\n",
       "      <td>1625</td>\n",
       "    </tr>\n",
       "    <tr>\n",
       "      <th>26</th>\n",
       "      <td>exposure_bioprocess</td>\n",
       "      <td>exposure</td>\n",
       "      <td>1625</td>\n",
       "    </tr>\n",
       "    <tr>\n",
       "      <th>27</th>\n",
       "      <td>exposure_cellcomp</td>\n",
       "      <td>cellular_component</td>\n",
       "      <td>10</td>\n",
       "    </tr>\n",
       "    <tr>\n",
       "      <th>28</th>\n",
       "      <td>exposure_cellcomp</td>\n",
       "      <td>exposure</td>\n",
       "      <td>10</td>\n",
       "    </tr>\n",
       "    <tr>\n",
       "      <th>29</th>\n",
       "      <td>exposure_disease</td>\n",
       "      <td>disease</td>\n",
       "      <td>2304</td>\n",
       "    </tr>\n",
       "    <tr>\n",
       "      <th>30</th>\n",
       "      <td>exposure_disease</td>\n",
       "      <td>exposure</td>\n",
       "      <td>2304</td>\n",
       "    </tr>\n",
       "    <tr>\n",
       "      <th>31</th>\n",
       "      <td>exposure_exposure</td>\n",
       "      <td>exposure</td>\n",
       "      <td>4140</td>\n",
       "    </tr>\n",
       "    <tr>\n",
       "      <th>32</th>\n",
       "      <td>exposure_molfunc</td>\n",
       "      <td>exposure</td>\n",
       "      <td>45</td>\n",
       "    </tr>\n",
       "    <tr>\n",
       "      <th>33</th>\n",
       "      <td>exposure_molfunc</td>\n",
       "      <td>molecular_function</td>\n",
       "      <td>45</td>\n",
       "    </tr>\n",
       "    <tr>\n",
       "      <th>34</th>\n",
       "      <td>exposure_protein</td>\n",
       "      <td>exposure</td>\n",
       "      <td>1212</td>\n",
       "    </tr>\n",
       "    <tr>\n",
       "      <th>35</th>\n",
       "      <td>exposure_protein</td>\n",
       "      <td>gene/protein</td>\n",
       "      <td>1212</td>\n",
       "    </tr>\n",
       "    <tr>\n",
       "      <th>36</th>\n",
       "      <td>indication</td>\n",
       "      <td>disease</td>\n",
       "      <td>9388</td>\n",
       "    </tr>\n",
       "    <tr>\n",
       "      <th>37</th>\n",
       "      <td>indication</td>\n",
       "      <td>drug</td>\n",
       "      <td>9388</td>\n",
       "    </tr>\n",
       "    <tr>\n",
       "      <th>38</th>\n",
       "      <td>molfunc_molfunc</td>\n",
       "      <td>molecular_function</td>\n",
       "      <td>27148</td>\n",
       "    </tr>\n",
       "    <tr>\n",
       "      <th>39</th>\n",
       "      <td>molfunc_protein</td>\n",
       "      <td>gene/protein</td>\n",
       "      <td>69530</td>\n",
       "    </tr>\n",
       "    <tr>\n",
       "      <th>40</th>\n",
       "      <td>molfunc_protein</td>\n",
       "      <td>molecular_function</td>\n",
       "      <td>69530</td>\n",
       "    </tr>\n",
       "    <tr>\n",
       "      <th>41</th>\n",
       "      <td>off-label use</td>\n",
       "      <td>disease</td>\n",
       "      <td>2568</td>\n",
       "    </tr>\n",
       "    <tr>\n",
       "      <th>42</th>\n",
       "      <td>off-label use</td>\n",
       "      <td>drug</td>\n",
       "      <td>2568</td>\n",
       "    </tr>\n",
       "    <tr>\n",
       "      <th>43</th>\n",
       "      <td>pathway_pathway</td>\n",
       "      <td>pathway</td>\n",
       "      <td>5070</td>\n",
       "    </tr>\n",
       "    <tr>\n",
       "      <th>44</th>\n",
       "      <td>pathway_protein</td>\n",
       "      <td>gene/protein</td>\n",
       "      <td>42646</td>\n",
       "    </tr>\n",
       "    <tr>\n",
       "      <th>45</th>\n",
       "      <td>pathway_protein</td>\n",
       "      <td>pathway</td>\n",
       "      <td>42646</td>\n",
       "    </tr>\n",
       "    <tr>\n",
       "      <th>46</th>\n",
       "      <td>phenotype_phenotype</td>\n",
       "      <td>effect/phenotype</td>\n",
       "      <td>37472</td>\n",
       "    </tr>\n",
       "    <tr>\n",
       "      <th>47</th>\n",
       "      <td>phenotype_protein</td>\n",
       "      <td>effect/phenotype</td>\n",
       "      <td>3330</td>\n",
       "    </tr>\n",
       "    <tr>\n",
       "      <th>48</th>\n",
       "      <td>phenotype_protein</td>\n",
       "      <td>gene/protein</td>\n",
       "      <td>3330</td>\n",
       "    </tr>\n",
       "    <tr>\n",
       "      <th>49</th>\n",
       "      <td>protein_protein</td>\n",
       "      <td>gene/protein</td>\n",
       "      <td>642150</td>\n",
       "    </tr>\n",
       "  </tbody>\n",
       "</table>\n",
       "</div>"
      ],
      "text/plain": [
       "                      relation              x_type    count\n",
       "0              anatomy_anatomy             anatomy    28064\n",
       "1       anatomy_protein_absent             anatomy    19887\n",
       "2       anatomy_protein_absent        gene/protein    19887\n",
       "3      anatomy_protein_present             anatomy  1518203\n",
       "4      anatomy_protein_present        gene/protein  1518203\n",
       "5        bioprocess_bioprocess  biological_process   105772\n",
       "6           bioprocess_protein  biological_process   144805\n",
       "7           bioprocess_protein        gene/protein   144805\n",
       "8            cellcomp_cellcomp  cellular_component     9690\n",
       "9             cellcomp_protein  cellular_component    83402\n",
       "10            cellcomp_protein        gene/protein    83402\n",
       "11            contraindication             disease    30675\n",
       "12            contraindication                drug    30675\n",
       "13             disease_disease             disease    64388\n",
       "14  disease_phenotype_negative             disease     1193\n",
       "15  disease_phenotype_negative    effect/phenotype     1193\n",
       "16  disease_phenotype_positive             disease   150317\n",
       "17  disease_phenotype_positive    effect/phenotype   150317\n",
       "18             disease_protein             disease    80411\n",
       "19             disease_protein        gene/protein    80411\n",
       "20                   drug_drug                drug  2672628\n",
       "21                 drug_effect                drug    64784\n",
       "22                 drug_effect    effect/phenotype    64784\n",
       "23                drug_protein                drug    25653\n",
       "24                drug_protein        gene/protein    25653\n",
       "25         exposure_bioprocess  biological_process     1625\n",
       "26         exposure_bioprocess            exposure     1625\n",
       "27           exposure_cellcomp  cellular_component       10\n",
       "28           exposure_cellcomp            exposure       10\n",
       "29            exposure_disease             disease     2304\n",
       "30            exposure_disease            exposure     2304\n",
       "31           exposure_exposure            exposure     4140\n",
       "32            exposure_molfunc            exposure       45\n",
       "33            exposure_molfunc  molecular_function       45\n",
       "34            exposure_protein            exposure     1212\n",
       "35            exposure_protein        gene/protein     1212\n",
       "36                  indication             disease     9388\n",
       "37                  indication                drug     9388\n",
       "38             molfunc_molfunc  molecular_function    27148\n",
       "39             molfunc_protein        gene/protein    69530\n",
       "40             molfunc_protein  molecular_function    69530\n",
       "41               off-label use             disease     2568\n",
       "42               off-label use                drug     2568\n",
       "43             pathway_pathway             pathway     5070\n",
       "44             pathway_protein        gene/protein    42646\n",
       "45             pathway_protein             pathway    42646\n",
       "46         phenotype_phenotype    effect/phenotype    37472\n",
       "47           phenotype_protein    effect/phenotype     3330\n",
       "48           phenotype_protein        gene/protein     3330\n",
       "49             protein_protein        gene/protein   642150"
      ]
     },
     "execution_count": 16,
     "metadata": {},
     "output_type": "execute_result"
    }
   ],
   "source": [
    "counts_node_for_relation = kg.groupby(['relation', 'x_type']).size().reset_index(name='count')\n",
    "counts_node_for_relation"
   ]
  },
  {
   "cell_type": "markdown",
   "id": "54c1d007-bc72-4379-bf36-f3234e90796f",
   "metadata": {},
   "source": [
    "# Part 2: Exploring the Knowledge Graph"
   ]
  },
  {
   "cell_type": "markdown",
   "id": "8d0355c1-5ea6-47a3-9f9f-969f999d04fe",
   "metadata": {},
   "source": [
    "## 2.1 Constructing and Visualising the Ontology"
   ]
  },
  {
   "cell_type": "markdown",
   "id": "2fe2a5c9-6218-4ff0-96cf-ac371c7c5481",
   "metadata": {},
   "source": [
    "### Constructing"
   ]
  },
  {
   "cell_type": "markdown",
   "id": "854ea68b-47a6-46a1-a081-a9d072a1cc0e",
   "metadata": {},
   "source": [
    "Now, add relations"
   ]
  },
  {
   "cell_type": "code",
   "execution_count": 17,
   "id": "f66551f7-4523-452b-b9dc-f5319e82d2d1",
   "metadata": {},
   "outputs": [],
   "source": [
    "# List to store (source, target, relation) triples for graph population\n",
    "tuples = set()\n",
    "# co-occurence frequency of nodes (x -> y), store type as well for bayesian inference later\n",
    "joint_freq = {}\n",
    "# source target dict for graph population later on\n",
    "source_target = {}\n",
    "\n",
    "# Go through rows of data set, constructing multiple data structure for other sections.\n",
    "for row in kg.itertuples(index=False):\n",
    "    #        ONTOLOGY\n",
    "    #////////////////////////////////////////////////////////////\n",
    "    # Get specifix x->y for that row (each row repersents one relation)\n",
    "    x = row.x_name\n",
    "    y = row.y_name\n",
    "\n",
    "    x_type = row.x_type\n",
    "    y_type = row.y_type\n",
    "    # Append (source, target) thruple to tuples list, this is types as it is for the ontology\n",
    "    tuples.add((x_type, y_type))\n",
    "    #/////////////////////////////////////////////////////////////\n",
    "    \n",
    "    #         POPULATING KG \n",
    "    #////////////////////////////////////////////////////////////\n",
    "    if x not in source_target:\n",
    "        source_target[x] = []\n",
    "    # when in Rome (iterrating through entier data set), may as well also get the actual nodes for population later\n",
    "    source_target[x].append(y)\n",
    "    #////////////////////////////////////////////////////////////\n",
    "    \n",
    "    #         BAYESIAN NETWORK\n",
    "    #////////////////////////////////////////////////////////////\n",
    "    # also for the bayesian network later on\n",
    "    joint_freq[(x, y, x_type, y_type)] = joint_freq.get((x, y, x_type, y_type), 0) + 1\n",
    "    #////////////////////////////////////////////////////////////\n"
   ]
  },
  {
   "cell_type": "markdown",
   "id": "c9ba84d2-1150-4439-903f-f41992a26d69",
   "metadata": {},
   "source": [
    "### Visualising"
   ]
  },
  {
   "cell_type": "code",
   "execution_count": 18,
   "id": "2d8f26c6-362b-485f-8a6e-5572e5089d3c",
   "metadata": {},
   "outputs": [
    {
     "name": "stderr",
     "output_type": "stream",
     "text": [
      "[d3graph] INFO> Converting source-target into adjacency matrix..\n",
      "[d3graph] INFO> Making the matrix symmetric..\n",
      "[d3graph] INFO> Set directed=True to see the markers!\n",
      "[d3graph] INFO> Keep only edges with weight>0\n",
      "[d3graph] INFO> Converting source-target into adjacency matrix..\n",
      "[d3graph] INFO> Making the matrix symmetric..\n",
      "[d3graph] INFO> Converting adjacency matrix into source-target..\n",
      "[d3graph] INFO> Number of unique nodes: 10\n",
      "[d3graph] INFO> Keep only edges with weight>0\n",
      "[d3graph] INFO> Converting source-target into adjacency matrix..\n",
      "[d3graph] INFO> Making the matrix symmetric..\n",
      "[d3graph] INFO> Number of unique nodes: 10\n",
      "[d3graph] INFO> Slider range is set to [0, 1]\n",
      "[d3graph] INFO> Write to path: [C:\\Users\\josep\\OneDrive - Queen's University Belfast\\Machine_Learning\\ke-project\\code\\vis-ex.html]\n",
      "[d3graph] INFO> File already exists and will be overwritten: [C:\\Users\\josep\\OneDrive - Queen's University Belfast\\Machine_Learning\\ke-project\\code\\vis-ex.html]\n"
     ]
    }
   ],
   "source": [
    "def GraphVis(tuples, fname): \n",
    "    # Recalculate source, target, and labels after deduplication\n",
    "    source = []\n",
    "    target = []\n",
    "    labels = []\n",
    "    edges_are_labeled = False\n",
    "    # (source, target, relation) \n",
    "    for t in tuples:\n",
    "        source.append(t[0])  \n",
    "        target.append(t[1]) \n",
    "        if len(t) > 2:\n",
    "            edges_are_labeled = True\n",
    "            labels.append(t[2])\n",
    "\n",
    "    # Adjacency matrix\n",
    "    d3 = d3graph()\n",
    "    adjmat = vec2adjmat(source, target)   \n",
    "\n",
    "    d3.graph(adjmat)\n",
    "\n",
    "    # Set edges to be directed\n",
    "    if not edges_are_labeled:\n",
    "        d3.set_edge_properties(\n",
    "            directed=True, \n",
    "            marker_end='arrow', \n",
    "        )\n",
    "    elif edges_are_labeled:\n",
    "        d3.set_edge_properties(\n",
    "            directed=True, \n",
    "            marker_end='arrow',\n",
    "            label = labels\n",
    "        )\n",
    "\n",
    "    # Make graph more readable\n",
    "    d3.set_node_properties(\n",
    "        size = 8,\n",
    "        color='#4682B4',\n",
    "        fontcolor='red'\n",
    "    )\n",
    "    \n",
    "    d3.show(filepath=fname)\n",
    "\n",
    "    return None\n",
    "\n",
    "GraphVis(tuples, './vis-ex.html')"
   ]
  },
  {
   "cell_type": "markdown",
   "id": "5c99d67a-610d-408b-9538-30537d9d5023",
   "metadata": {},
   "source": [
    "## 2.2 Constructing the Knowledge Graph"
   ]
  },
  {
   "cell_type": "markdown",
   "id": "0924b72c-c596-435d-b2da-57ac8c36be61",
   "metadata": {},
   "source": [
    "Populate the KB with the data, nodes and edges "
   ]
  },
  {
   "cell_type": "markdown",
   "id": "24ec47fa-2022-4f74-aefc-233b9c042b19",
   "metadata": {},
   "source": [
    "#### Populate Graph"
   ]
  },
  {
   "cell_type": "markdown",
   "id": "5cbbb6a2-cc4c-4624-9038-3a7b79825910",
   "metadata": {},
   "source": [
    "##### Nodes"
   ]
  },
  {
   "cell_type": "code",
   "execution_count": 19,
   "id": "d99a0ecf-8b3b-48f7-924b-aafeb64391f2",
   "metadata": {
    "scrolled": true
   },
   "outputs": [],
   "source": [
    "# TheGraph: {node: ([relations], type)}\n",
    "node_names = kg['x_name']\n",
    "TheGraph = dict.fromkeys(node_names, None)\n",
    "\n",
    "# zip() combines into pairs\n",
    "nodes_types_dict = dict(zip(kg['x_name'], kg['x_type']))\n",
    "\n",
    "# For all nodes in data\n",
    "for name in node_names:\n",
    "    type_corresponding_to_node = nodes_types_dict[name]\n",
    "    # Initialise empty list to later add relations\n",
    "    TheGraph[name] = ([], type_corresponding_to_node)"
   ]
  },
  {
   "cell_type": "markdown",
   "id": "8a8e30a9-5a63-4e46-a55e-33d21bf06fc7",
   "metadata": {},
   "source": [
    "Now that the nodes have been added, we can connect the nodes. "
   ]
  },
  {
   "cell_type": "markdown",
   "id": "30c8e868-ba29-4d88-8d84-ef21735ab9a7",
   "metadata": {},
   "source": [
    "##### Edges"
   ]
  },
  {
   "cell_type": "code",
   "execution_count": 20,
   "id": "5c6e516f-2e05-47fc-8379-9618ce611652",
   "metadata": {},
   "outputs": [],
   "source": [
    "# Add List of relations for each node, retrieve information from sorce_target(s) dictionary\n",
    "for source in source_target:\n",
    "    targets = source_target.get(source) \n",
    "    # empty temp 'relations'\n",
    "    relations, node_type = TheGraph[source]\n",
    "    # populate relations\n",
    "    relations = targets\n",
    "    TheGraph[source] = (relations, node_type)  "
   ]
  },
  {
   "cell_type": "markdown",
   "id": "0bc05452-d60f-4085-8061-68fd62126111",
   "metadata": {},
   "source": [
    "## 2.3 Finding a Subgraph"
   ]
  },
  {
   "cell_type": "code",
   "execution_count": 21,
   "id": "02194eb9-fd34-489d-987c-7bd01e59db45",
   "metadata": {},
   "outputs": [],
   "source": [
    "# Generate subgraph, where root and target node are separated by 2 nodes, root node does not have loads of connections,\n",
    "# - and that max search depth is 6."
   ]
  },
  {
   "cell_type": "code",
   "execution_count": 22,
   "id": "2d0c161a-3e2e-4dc5-802d-5988010be0e6",
   "metadata": {},
   "outputs": [],
   "source": [
    "def generate_subgraph_with_relations(TheGraph):\n",
    "    # Get nodes of type 'disease'\n",
    "    disease_nodes = [node for node, (_, node_type) in TheGraph.items() if node_type == 'disease']\n",
    "        \n",
    "    # take choose the first disease node as the root, #69 bidirectional relation\n",
    "    for root_disease in disease_nodes:\n",
    "        # Initialise subgraph\n",
    "        subgraph = {}\n",
    "        \n",
    "        # BFS\n",
    "        visited = set()\n",
    "        queue = [(root_disease, 0)]\n",
    "    \n",
    "        # while still nodes availible to visit\n",
    "        while queue:\n",
    "            current_node, depth = queue.pop(0)\n",
    "    \n",
    "            # if new node\n",
    "            if current_node not in visited:\n",
    "                visited.add(current_node)\n",
    "                relations, node_type = TheGraph[current_node]\n",
    "\n",
    "                if len(relations) > 6:\n",
    "                    break\n",
    "                \n",
    "                # Add new node to subgraph\n",
    "                subgraph[current_node] = (relations, node_type)  \n",
    "                \n",
    "                # Add neigbours to q\n",
    "                for neighbor in relations:\n",
    "                    queue.append((neighbor, depth + 1))\n",
    "                        \n",
    "                # Stop searching if another disease node is found within 2 edges\n",
    "                if depth == 3 and node_type == \"disease\" and current_node != root_disease:\n",
    "                    target = current_node\n",
    "                    print('Suitable subgraph found!!!')\n",
    "                    return subgraph, root_disease, target\n",
    "\n",
    "    print(visited)\n",
    "    # return empty if no suitable subgraph found\n",
    "    return {}, None, None\n"
   ]
  },
  {
   "cell_type": "code",
   "execution_count": 23,
   "id": "48ed3cda-826a-45f6-a5a4-deb15b345454",
   "metadata": {},
   "outputs": [],
   "source": [
    "def extract_tuples_from_subgraph(subgraph):\n",
    "    tuples = []\n",
    "    for node, (relations, type_) in subgraph.items():\n",
    "        for target in relations:\n",
    "            tuples.append((node, target))\n",
    "    return tuples"
   ]
  },
  {
   "cell_type": "code",
   "execution_count": 24,
   "id": "192d16b7-0f2a-4cf8-8234-667ed9f0d605",
   "metadata": {},
   "outputs": [
    {
     "name": "stdout",
     "output_type": "stream",
     "text": [
      "Suitable subgraph found!!!\n"
     ]
    }
   ],
   "source": [
    "# generate suitable subgraph\n",
    "subgraph, root, target = generate_subgraph_with_relations(TheGraph)"
   ]
  },
  {
   "cell_type": "code",
   "execution_count": 25,
   "id": "c71e1230-9064-4751-aae6-a77410f91c19",
   "metadata": {},
   "outputs": [
    {
     "data": {
      "text/plain": [
       "{'progressive peripheral pterygium': (['central pterygium',\n",
       "   'conjunctival pterygium'],\n",
       "  'disease'),\n",
       " 'central pterygium': (['progressive peripheral pterygium'], 'disease'),\n",
       " 'conjunctival pterygium': (['progressive peripheral pterygium',\n",
       "   'conjunctival degeneration',\n",
       "   'pterygium'],\n",
       "  'disease'),\n",
       " 'conjunctival degeneration': (['conjunctival pterygium',\n",
       "   'pseudopterygium',\n",
       "   'pinguecula',\n",
       "   'conjunctival disorder'],\n",
       "  'disease'),\n",
       " 'pterygium': (['conjunctival pterygium',\n",
       "   'familial pterygium of the conjunctiva',\n",
       "   'IFNA2',\n",
       "   'BICD2',\n",
       "   'benign neoplasm of cornea',\n",
       "   'benign conjunctival neoplasm'],\n",
       "  'disease'),\n",
       " 'pseudopterygium': (['conjunctival degeneration', 'corneal disease'],\n",
       "  'disease')}"
      ]
     },
     "execution_count": 25,
     "metadata": {},
     "output_type": "execute_result"
    }
   ],
   "source": [
    "subgraph"
   ]
  },
  {
   "cell_type": "code",
   "execution_count": 26,
   "id": "5bb9047d-440b-429a-866f-120721578464",
   "metadata": {},
   "outputs": [
    {
     "name": "stdout",
     "output_type": "stream",
     "text": [
      "[('progressive peripheral pterygium', 'central pterygium'), ('progressive peripheral pterygium', 'conjunctival pterygium'), ('central pterygium', 'progressive peripheral pterygium'), ('conjunctival pterygium', 'progressive peripheral pterygium'), ('conjunctival pterygium', 'conjunctival degeneration'), ('conjunctival pterygium', 'pterygium'), ('conjunctival degeneration', 'conjunctival pterygium'), ('conjunctival degeneration', 'pseudopterygium'), ('conjunctival degeneration', 'pinguecula'), ('conjunctival degeneration', 'conjunctival disorder'), ('pterygium', 'conjunctival pterygium'), ('pterygium', 'familial pterygium of the conjunctiva'), ('pterygium', 'IFNA2'), ('pterygium', 'BICD2'), ('pterygium', 'benign neoplasm of cornea'), ('pterygium', 'benign conjunctival neoplasm'), ('pseudopterygium', 'conjunctival degeneration'), ('pseudopterygium', 'corneal disease')]\n"
     ]
    }
   ],
   "source": [
    "# format for visualisation\n",
    "subgraph_tuples = extract_tuples_from_subgraph(subgraph)\n",
    "print(subgraph_tuples)"
   ]
  },
  {
   "cell_type": "code",
   "execution_count": 27,
   "id": "f7de41e1-8daf-414f-8065-848bcf2584f0",
   "metadata": {},
   "outputs": [
    {
     "name": "stderr",
     "output_type": "stream",
     "text": [
      "[d3graph] INFO> Converting source-target into adjacency matrix..\n",
      "[d3graph] INFO> Making the matrix symmetric..\n",
      "[d3graph] INFO> Set directed=True to see the markers!\n",
      "[d3graph] INFO> Keep only edges with weight>0\n",
      "[d3graph] INFO> Converting source-target into adjacency matrix..\n",
      "[d3graph] INFO> Making the matrix symmetric..\n",
      "[d3graph] INFO> Converting adjacency matrix into source-target..\n",
      "[d3graph] INFO> Number of unique nodes: 14\n",
      "[d3graph] INFO> Keep only edges with weight>0\n",
      "[d3graph] INFO> Converting source-target into adjacency matrix..\n",
      "[d3graph] INFO> Making the matrix symmetric..\n",
      "[d3graph] INFO> Number of unique nodes: 14\n",
      "[d3graph] INFO> Slider range is set to [0, 1]\n",
      "[d3graph] INFO> Write to path: [C:\\Users\\josep\\OneDrive - Queen's University Belfast\\Machine_Learning\\ke-project\\code\\subgraph-visual.html]\n",
      "[d3graph] INFO> File already exists and will be overwritten: [C:\\Users\\josep\\OneDrive - Queen's University Belfast\\Machine_Learning\\ke-project\\code\\subgraph-visual.html]\n"
     ]
    }
   ],
   "source": [
    "# Visualise\n",
    "GraphVis(subgraph_tuples, './subgraph-visual.html')"
   ]
  },
  {
   "cell_type": "code",
   "execution_count": 28,
   "id": "79df523a-cae2-405b-b906-cab65ea33c0b",
   "metadata": {},
   "outputs": [
    {
     "name": "stdout",
     "output_type": "stream",
     "text": [
      "Root: progressive peripheral pterygium, Target: pseudopterygium\n"
     ]
    }
   ],
   "source": [
    "print(f'Root: {root}, Target: {target}')"
   ]
  },
  {
   "cell_type": "markdown",
   "id": "9384febf-3391-458a-8216-5a2b4213da5c",
   "metadata": {},
   "source": [
    "# Part 3: Deriving a Knowledge Base and Inferring New Relations "
   ]
  },
  {
   "cell_type": "markdown",
   "id": "ab7d28d3-7665-4b56-beab-b24fef8a4a64",
   "metadata": {},
   "source": [
    "## 3.1 Knowledge Base (Rules) of Subgraph"
   ]
  },
  {
   "cell_type": "code",
   "execution_count": 29,
   "id": "ce58573b-07e2-4314-a91d-414ac43bea28",
   "metadata": {},
   "outputs": [],
   "source": [
    "# subgraph tuples contains a tuples of source -> target pairs which can also be understood as rules like p -> q\n",
    "# rule form:  'if the node is x then the node is connected to y'\n",
    "def get_rules_from_tuples(tuples):\n",
    "    rules = []\n",
    "    for tuple in tuples:\n",
    "        x = tuple[0]\n",
    "        y = tuple [1]\n",
    "        rules.append(f'If the node is {x} then the node is connected to {y}')\n",
    "    return rules"
   ]
  },
  {
   "cell_type": "code",
   "execution_count": 30,
   "id": "5505a02d-17b3-4f06-a151-60fbe7865e01",
   "metadata": {},
   "outputs": [
    {
     "data": {
      "text/plain": [
       "['If the node is progressive peripheral pterygium then the node is connected to central pterygium',\n",
       " 'If the node is progressive peripheral pterygium then the node is connected to conjunctival pterygium',\n",
       " 'If the node is central pterygium then the node is connected to progressive peripheral pterygium',\n",
       " 'If the node is conjunctival pterygium then the node is connected to progressive peripheral pterygium',\n",
       " 'If the node is conjunctival pterygium then the node is connected to conjunctival degeneration',\n",
       " 'If the node is conjunctival pterygium then the node is connected to pterygium',\n",
       " 'If the node is conjunctival degeneration then the node is connected to conjunctival pterygium',\n",
       " 'If the node is conjunctival degeneration then the node is connected to pseudopterygium',\n",
       " 'If the node is conjunctival degeneration then the node is connected to pinguecula',\n",
       " 'If the node is conjunctival degeneration then the node is connected to conjunctival disorder',\n",
       " 'If the node is pterygium then the node is connected to conjunctival pterygium',\n",
       " 'If the node is pterygium then the node is connected to familial pterygium of the conjunctiva',\n",
       " 'If the node is pterygium then the node is connected to IFNA2',\n",
       " 'If the node is pterygium then the node is connected to BICD2',\n",
       " 'If the node is pterygium then the node is connected to benign neoplasm of cornea',\n",
       " 'If the node is pterygium then the node is connected to benign conjunctival neoplasm',\n",
       " 'If the node is pseudopterygium then the node is connected to conjunctival degeneration',\n",
       " 'If the node is pseudopterygium then the node is connected to corneal disease']"
      ]
     },
     "execution_count": 30,
     "metadata": {},
     "output_type": "execute_result"
    }
   ],
   "source": [
    "rules = get_rules_from_tuples(subgraph_tuples)\n",
    "rules"
   ]
  },
  {
   "cell_type": "markdown",
   "id": "2d4425ca-72b9-4e89-86ee-c87a5aaa89a0",
   "metadata": {},
   "source": [
    "## 3.2 Subgraph Inference"
   ]
  },
  {
   "cell_type": "code",
   "execution_count": 31,
   "id": "cc0ca7ff-1740-4c22-9569-a226e7805e2a",
   "metadata": {},
   "outputs": [],
   "source": [
    "def infer_transitive_relations(subgraph):\n",
    "    # Initial explicit relations and reasoning\n",
    "    inferred_tuples = set()  # Set of all inferred relations\n",
    "    rule_reasoning = {}      # Chain of reasoning for each inferred relation\n",
    "\n",
    "    # BFS queue\n",
    "    queue = deque()\n",
    "    for node, (relations, _) in subgraph.items():\n",
    "        for neighbor in relations:\n",
    "            inferred_tuples.add((node, neighbor))\n",
    "            queue.append((node, neighbor))\n",
    "            \n",
    "    # BFS to infer new relations\n",
    "    while queue:\n",
    "        a, b = queue.popleft()  # Current relation (a → b)\n",
    "        # Look for (b → c) to infer (a → c)\n",
    "        if b in subgraph:\n",
    "            for c in subgraph[b][0]:  # Neighbors of b\n",
    "                if (a, c) not in inferred_tuples and a != c:\n",
    "                    inferred_tuples.add((a, c))\n",
    "                    queue.append((a, c))\n",
    "\n",
    "                    # reasoning chain\n",
    "                    rule_reasoning[(a, c)] = f\"({a} → {b} AND {b} → {c}) IMPLIES {a} → {c}\"\n",
    "\n",
    "    return rule_reasoning\n"
   ]
  },
  {
   "cell_type": "code",
   "execution_count": 32,
   "id": "d75f41ba-35b8-4110-8bcc-5b60641e9b68",
   "metadata": {},
   "outputs": [],
   "source": [
    "rules_and_reasons = infer_transitive_relations(subgraph)"
   ]
  },
  {
   "cell_type": "code",
   "execution_count": 33,
   "id": "da0afde9-9ac5-41d0-8c14-4f1a772288ba",
   "metadata": {},
   "outputs": [
    {
     "name": "stdout",
     "output_type": "stream",
     "text": [
      "Rule: ('progressive peripheral pterygium', 'conjunctival degeneration')\n",
      "Reasoning: (progressive peripheral pterygium → conjunctival pterygium AND conjunctival pterygium → conjunctival degeneration) IMPLIES progressive peripheral pterygium → conjunctival degeneration\n",
      "\n",
      "\n",
      "Rule: ('progressive peripheral pterygium', 'pterygium')\n",
      "Reasoning: (progressive peripheral pterygium → conjunctival pterygium AND conjunctival pterygium → pterygium) IMPLIES progressive peripheral pterygium → pterygium\n",
      "\n",
      "\n",
      "Rule: ('central pterygium', 'conjunctival pterygium')\n",
      "Reasoning: (central pterygium → progressive peripheral pterygium AND progressive peripheral pterygium → conjunctival pterygium) IMPLIES central pterygium → conjunctival pterygium\n",
      "\n",
      "\n",
      "Rule: ('conjunctival pterygium', 'central pterygium')\n",
      "Reasoning: (conjunctival pterygium → progressive peripheral pterygium AND progressive peripheral pterygium → central pterygium) IMPLIES conjunctival pterygium → central pterygium\n",
      "\n",
      "\n",
      "Rule: ('conjunctival pterygium', 'pseudopterygium')\n",
      "Reasoning: (conjunctival pterygium → conjunctival degeneration AND conjunctival degeneration → pseudopterygium) IMPLIES conjunctival pterygium → pseudopterygium\n",
      "\n",
      "\n",
      "Rule: ('conjunctival pterygium', 'pinguecula')\n",
      "Reasoning: (conjunctival pterygium → conjunctival degeneration AND conjunctival degeneration → pinguecula) IMPLIES conjunctival pterygium → pinguecula\n",
      "\n",
      "\n",
      "Rule: ('conjunctival pterygium', 'conjunctival disorder')\n",
      "Reasoning: (conjunctival pterygium → conjunctival degeneration AND conjunctival degeneration → conjunctival disorder) IMPLIES conjunctival pterygium → conjunctival disorder\n",
      "\n",
      "\n",
      "Rule: ('conjunctival pterygium', 'familial pterygium of the conjunctiva')\n",
      "Reasoning: (conjunctival pterygium → pterygium AND pterygium → familial pterygium of the conjunctiva) IMPLIES conjunctival pterygium → familial pterygium of the conjunctiva\n",
      "\n",
      "\n",
      "Rule: ('conjunctival pterygium', 'IFNA2')\n",
      "Reasoning: (conjunctival pterygium → pterygium AND pterygium → IFNA2) IMPLIES conjunctival pterygium → IFNA2\n",
      "\n",
      "\n",
      "Rule: ('conjunctival pterygium', 'BICD2')\n",
      "Reasoning: (conjunctival pterygium → pterygium AND pterygium → BICD2) IMPLIES conjunctival pterygium → BICD2\n",
      "\n",
      "\n",
      "Rule: ('conjunctival pterygium', 'benign neoplasm of cornea')\n",
      "Reasoning: (conjunctival pterygium → pterygium AND pterygium → benign neoplasm of cornea) IMPLIES conjunctival pterygium → benign neoplasm of cornea\n",
      "\n",
      "\n",
      "Rule: ('conjunctival pterygium', 'benign conjunctival neoplasm')\n",
      "Reasoning: (conjunctival pterygium → pterygium AND pterygium → benign conjunctival neoplasm) IMPLIES conjunctival pterygium → benign conjunctival neoplasm\n",
      "\n",
      "\n",
      "Rule: ('conjunctival degeneration', 'progressive peripheral pterygium')\n",
      "Reasoning: (conjunctival degeneration → conjunctival pterygium AND conjunctival pterygium → progressive peripheral pterygium) IMPLIES conjunctival degeneration → progressive peripheral pterygium\n",
      "\n",
      "\n",
      "Rule: ('conjunctival degeneration', 'pterygium')\n",
      "Reasoning: (conjunctival degeneration → conjunctival pterygium AND conjunctival pterygium → pterygium) IMPLIES conjunctival degeneration → pterygium\n",
      "\n",
      "\n",
      "Rule: ('conjunctival degeneration', 'corneal disease')\n",
      "Reasoning: (conjunctival degeneration → pseudopterygium AND pseudopterygium → corneal disease) IMPLIES conjunctival degeneration → corneal disease\n",
      "\n",
      "\n",
      "Rule: ('pterygium', 'progressive peripheral pterygium')\n",
      "Reasoning: (pterygium → conjunctival pterygium AND conjunctival pterygium → progressive peripheral pterygium) IMPLIES pterygium → progressive peripheral pterygium\n",
      "\n",
      "\n",
      "Rule: ('pterygium', 'conjunctival degeneration')\n",
      "Reasoning: (pterygium → conjunctival pterygium AND conjunctival pterygium → conjunctival degeneration) IMPLIES pterygium → conjunctival degeneration\n",
      "\n",
      "\n",
      "Rule: ('pseudopterygium', 'conjunctival pterygium')\n",
      "Reasoning: (pseudopterygium → conjunctival degeneration AND conjunctival degeneration → conjunctival pterygium) IMPLIES pseudopterygium → conjunctival pterygium\n",
      "\n",
      "\n",
      "Rule: ('pseudopterygium', 'pinguecula')\n",
      "Reasoning: (pseudopterygium → conjunctival degeneration AND conjunctival degeneration → pinguecula) IMPLIES pseudopterygium → pinguecula\n",
      "\n",
      "\n",
      "Rule: ('pseudopterygium', 'conjunctival disorder')\n",
      "Reasoning: (pseudopterygium → conjunctival degeneration AND conjunctival degeneration → conjunctival disorder) IMPLIES pseudopterygium → conjunctival disorder\n",
      "\n",
      "\n",
      "Rule: ('progressive peripheral pterygium', 'pseudopterygium')\n",
      "Reasoning: (progressive peripheral pterygium → conjunctival degeneration AND conjunctival degeneration → pseudopterygium) IMPLIES progressive peripheral pterygium → pseudopterygium\n",
      "\n",
      "\n",
      "Rule: ('progressive peripheral pterygium', 'pinguecula')\n",
      "Reasoning: (progressive peripheral pterygium → conjunctival degeneration AND conjunctival degeneration → pinguecula) IMPLIES progressive peripheral pterygium → pinguecula\n",
      "\n",
      "\n",
      "Rule: ('progressive peripheral pterygium', 'conjunctival disorder')\n",
      "Reasoning: (progressive peripheral pterygium → conjunctival degeneration AND conjunctival degeneration → conjunctival disorder) IMPLIES progressive peripheral pterygium → conjunctival disorder\n",
      "\n",
      "\n",
      "Rule: ('progressive peripheral pterygium', 'familial pterygium of the conjunctiva')\n",
      "Reasoning: (progressive peripheral pterygium → pterygium AND pterygium → familial pterygium of the conjunctiva) IMPLIES progressive peripheral pterygium → familial pterygium of the conjunctiva\n",
      "\n",
      "\n",
      "Rule: ('progressive peripheral pterygium', 'IFNA2')\n",
      "Reasoning: (progressive peripheral pterygium → pterygium AND pterygium → IFNA2) IMPLIES progressive peripheral pterygium → IFNA2\n",
      "\n",
      "\n",
      "Rule: ('progressive peripheral pterygium', 'BICD2')\n",
      "Reasoning: (progressive peripheral pterygium → pterygium AND pterygium → BICD2) IMPLIES progressive peripheral pterygium → BICD2\n",
      "\n",
      "\n",
      "Rule: ('progressive peripheral pterygium', 'benign neoplasm of cornea')\n",
      "Reasoning: (progressive peripheral pterygium → pterygium AND pterygium → benign neoplasm of cornea) IMPLIES progressive peripheral pterygium → benign neoplasm of cornea\n",
      "\n",
      "\n",
      "Rule: ('progressive peripheral pterygium', 'benign conjunctival neoplasm')\n",
      "Reasoning: (progressive peripheral pterygium → pterygium AND pterygium → benign conjunctival neoplasm) IMPLIES progressive peripheral pterygium → benign conjunctival neoplasm\n",
      "\n",
      "\n",
      "Rule: ('central pterygium', 'conjunctival degeneration')\n",
      "Reasoning: (central pterygium → conjunctival pterygium AND conjunctival pterygium → conjunctival degeneration) IMPLIES central pterygium → conjunctival degeneration\n",
      "\n",
      "\n",
      "Rule: ('central pterygium', 'pterygium')\n",
      "Reasoning: (central pterygium → conjunctival pterygium AND conjunctival pterygium → pterygium) IMPLIES central pterygium → pterygium\n",
      "\n",
      "\n",
      "Rule: ('conjunctival pterygium', 'corneal disease')\n",
      "Reasoning: (conjunctival pterygium → pseudopterygium AND pseudopterygium → corneal disease) IMPLIES conjunctival pterygium → corneal disease\n",
      "\n",
      "\n",
      "Rule: ('conjunctival degeneration', 'central pterygium')\n",
      "Reasoning: (conjunctival degeneration → progressive peripheral pterygium AND progressive peripheral pterygium → central pterygium) IMPLIES conjunctival degeneration → central pterygium\n",
      "\n",
      "\n",
      "Rule: ('conjunctival degeneration', 'familial pterygium of the conjunctiva')\n",
      "Reasoning: (conjunctival degeneration → pterygium AND pterygium → familial pterygium of the conjunctiva) IMPLIES conjunctival degeneration → familial pterygium of the conjunctiva\n",
      "\n",
      "\n",
      "Rule: ('conjunctival degeneration', 'IFNA2')\n",
      "Reasoning: (conjunctival degeneration → pterygium AND pterygium → IFNA2) IMPLIES conjunctival degeneration → IFNA2\n",
      "\n",
      "\n",
      "Rule: ('conjunctival degeneration', 'BICD2')\n",
      "Reasoning: (conjunctival degeneration → pterygium AND pterygium → BICD2) IMPLIES conjunctival degeneration → BICD2\n",
      "\n",
      "\n",
      "Rule: ('conjunctival degeneration', 'benign neoplasm of cornea')\n",
      "Reasoning: (conjunctival degeneration → pterygium AND pterygium → benign neoplasm of cornea) IMPLIES conjunctival degeneration → benign neoplasm of cornea\n",
      "\n",
      "\n",
      "Rule: ('conjunctival degeneration', 'benign conjunctival neoplasm')\n",
      "Reasoning: (conjunctival degeneration → pterygium AND pterygium → benign conjunctival neoplasm) IMPLIES conjunctival degeneration → benign conjunctival neoplasm\n",
      "\n",
      "\n",
      "Rule: ('pterygium', 'central pterygium')\n",
      "Reasoning: (pterygium → progressive peripheral pterygium AND progressive peripheral pterygium → central pterygium) IMPLIES pterygium → central pterygium\n",
      "\n",
      "\n",
      "Rule: ('pterygium', 'pseudopterygium')\n",
      "Reasoning: (pterygium → conjunctival degeneration AND conjunctival degeneration → pseudopterygium) IMPLIES pterygium → pseudopterygium\n",
      "\n",
      "\n",
      "Rule: ('pterygium', 'pinguecula')\n",
      "Reasoning: (pterygium → conjunctival degeneration AND conjunctival degeneration → pinguecula) IMPLIES pterygium → pinguecula\n",
      "\n",
      "\n",
      "Rule: ('pterygium', 'conjunctival disorder')\n",
      "Reasoning: (pterygium → conjunctival degeneration AND conjunctival degeneration → conjunctival disorder) IMPLIES pterygium → conjunctival disorder\n",
      "\n",
      "\n",
      "Rule: ('pseudopterygium', 'progressive peripheral pterygium')\n",
      "Reasoning: (pseudopterygium → conjunctival pterygium AND conjunctival pterygium → progressive peripheral pterygium) IMPLIES pseudopterygium → progressive peripheral pterygium\n",
      "\n",
      "\n",
      "Rule: ('pseudopterygium', 'pterygium')\n",
      "Reasoning: (pseudopterygium → conjunctival pterygium AND conjunctival pterygium → pterygium) IMPLIES pseudopterygium → pterygium\n",
      "\n",
      "\n",
      "Rule: ('progressive peripheral pterygium', 'corneal disease')\n",
      "Reasoning: (progressive peripheral pterygium → pseudopterygium AND pseudopterygium → corneal disease) IMPLIES progressive peripheral pterygium → corneal disease\n",
      "\n",
      "\n",
      "Rule: ('central pterygium', 'pseudopterygium')\n",
      "Reasoning: (central pterygium → conjunctival degeneration AND conjunctival degeneration → pseudopterygium) IMPLIES central pterygium → pseudopterygium\n",
      "\n",
      "\n",
      "Rule: ('central pterygium', 'pinguecula')\n",
      "Reasoning: (central pterygium → conjunctival degeneration AND conjunctival degeneration → pinguecula) IMPLIES central pterygium → pinguecula\n",
      "\n",
      "\n",
      "Rule: ('central pterygium', 'conjunctival disorder')\n",
      "Reasoning: (central pterygium → conjunctival degeneration AND conjunctival degeneration → conjunctival disorder) IMPLIES central pterygium → conjunctival disorder\n",
      "\n",
      "\n",
      "Rule: ('central pterygium', 'familial pterygium of the conjunctiva')\n",
      "Reasoning: (central pterygium → pterygium AND pterygium → familial pterygium of the conjunctiva) IMPLIES central pterygium → familial pterygium of the conjunctiva\n",
      "\n",
      "\n",
      "Rule: ('central pterygium', 'IFNA2')\n",
      "Reasoning: (central pterygium → pterygium AND pterygium → IFNA2) IMPLIES central pterygium → IFNA2\n",
      "\n",
      "\n",
      "Rule: ('central pterygium', 'BICD2')\n",
      "Reasoning: (central pterygium → pterygium AND pterygium → BICD2) IMPLIES central pterygium → BICD2\n",
      "\n",
      "\n",
      "Rule: ('central pterygium', 'benign neoplasm of cornea')\n",
      "Reasoning: (central pterygium → pterygium AND pterygium → benign neoplasm of cornea) IMPLIES central pterygium → benign neoplasm of cornea\n",
      "\n",
      "\n",
      "Rule: ('central pterygium', 'benign conjunctival neoplasm')\n",
      "Reasoning: (central pterygium → pterygium AND pterygium → benign conjunctival neoplasm) IMPLIES central pterygium → benign conjunctival neoplasm\n",
      "\n",
      "\n",
      "Rule: ('pterygium', 'corneal disease')\n",
      "Reasoning: (pterygium → pseudopterygium AND pseudopterygium → corneal disease) IMPLIES pterygium → corneal disease\n",
      "\n",
      "\n",
      "Rule: ('pseudopterygium', 'central pterygium')\n",
      "Reasoning: (pseudopterygium → progressive peripheral pterygium AND progressive peripheral pterygium → central pterygium) IMPLIES pseudopterygium → central pterygium\n",
      "\n",
      "\n",
      "Rule: ('pseudopterygium', 'familial pterygium of the conjunctiva')\n",
      "Reasoning: (pseudopterygium → pterygium AND pterygium → familial pterygium of the conjunctiva) IMPLIES pseudopterygium → familial pterygium of the conjunctiva\n",
      "\n",
      "\n",
      "Rule: ('pseudopterygium', 'IFNA2')\n",
      "Reasoning: (pseudopterygium → pterygium AND pterygium → IFNA2) IMPLIES pseudopterygium → IFNA2\n",
      "\n",
      "\n",
      "Rule: ('pseudopterygium', 'BICD2')\n",
      "Reasoning: (pseudopterygium → pterygium AND pterygium → BICD2) IMPLIES pseudopterygium → BICD2\n",
      "\n",
      "\n",
      "Rule: ('pseudopterygium', 'benign neoplasm of cornea')\n",
      "Reasoning: (pseudopterygium → pterygium AND pterygium → benign neoplasm of cornea) IMPLIES pseudopterygium → benign neoplasm of cornea\n",
      "\n",
      "\n",
      "Rule: ('pseudopterygium', 'benign conjunctival neoplasm')\n",
      "Reasoning: (pseudopterygium → pterygium AND pterygium → benign conjunctival neoplasm) IMPLIES pseudopterygium → benign conjunctival neoplasm\n",
      "\n",
      "\n",
      "Rule: ('central pterygium', 'corneal disease')\n",
      "Reasoning: (central pterygium → pseudopterygium AND pseudopterygium → corneal disease) IMPLIES central pterygium → corneal disease\n",
      "\n",
      "\n"
     ]
    }
   ],
   "source": [
    "for rule, reason in rules_and_reasons.items():\n",
    "    print(f'Rule: {rule}')\n",
    "    print(f'Reasoning: {reason}')\n",
    "    print(f'\\n')"
   ]
  },
  {
   "cell_type": "markdown",
   "id": "8d760ab8-8d5f-4d7b-85c2-a78a3e5007fc",
   "metadata": {},
   "source": [
    "# Part 4: A Bayesian View of the Data"
   ]
  },
  {
   "cell_type": "markdown",
   "id": "06e9e209-b335-409b-ac80-deaa87940d64",
   "metadata": {},
   "source": [
    "## 4.1 Bayesian Network"
   ]
  },
  {
   "cell_type": "code",
   "execution_count": 34,
   "id": "4cb4f535-930f-4cad-a035-b9b94e2ee005",
   "metadata": {},
   "outputs": [],
   "source": [
    "# e joint distribution of anatomical region, protein, disease, and drug."
   ]
  },
  {
   "cell_type": "markdown",
   "id": "7912729c-54ce-41bf-b7fe-16c5a59075e7",
   "metadata": {},
   "source": [
    "Visualize"
   ]
  },
  {
   "cell_type": "code",
   "execution_count": 35,
   "id": "d8652b0a-b5bb-4d9c-a244-88f4ac48a936",
   "metadata": {},
   "outputs": [
    {
     "data": {
      "text/plain": [
       "[('disease', 'gene/protein'),\n",
       " ('anatomy', 'gene/protein'),\n",
       " ('drug', 'gene/protein'),\n",
       " ('gene/protein', 'drug'),\n",
       " ('disease', 'drug'),\n",
       " ('drug', 'drug'),\n",
       " ('gene/protein', 'disease'),\n",
       " ('gene/protein', 'anatomy'),\n",
       " ('disease', 'disease'),\n",
       " ('drug', 'disease'),\n",
       " ('gene/protein', 'gene/protein'),\n",
       " ('anatomy', 'anatomy')]"
      ]
     },
     "execution_count": 35,
     "metadata": {},
     "output_type": "execute_result"
    }
   ],
   "source": [
    "nodes_for_baysian_network = ('disease', 'drug', 'gene/protein', 'anatomy')\n",
    "JD_node_pairs = []\n",
    "disease_incoming = []\n",
    "for s,t in tuples:\n",
    "    if s in nodes_for_baysian_network and t in nodes_for_baysian_network:\n",
    "        JD_node_pairs.append((s,t))\n",
    "    if t == 'disease':\n",
    "        disease_incoming.append((s,t))\n",
    "\n",
    "JD_node_pairs"
   ]
  },
  {
   "cell_type": "code",
   "execution_count": 36,
   "id": "e733b915-19bc-4991-8d3b-608474e0fef1",
   "metadata": {},
   "outputs": [
    {
     "name": "stderr",
     "output_type": "stream",
     "text": [
      "[d3graph] INFO> Converting source-target into adjacency matrix..\n",
      "[d3graph] INFO> Making the matrix symmetric..\n",
      "[d3graph] INFO> Set directed=True to see the markers!\n",
      "[d3graph] INFO> Keep only edges with weight>0\n",
      "[d3graph] INFO> Converting source-target into adjacency matrix..\n",
      "[d3graph] INFO> Making the matrix symmetric..\n",
      "[d3graph] INFO> Converting adjacency matrix into source-target..\n",
      "[d3graph] INFO> Number of unique nodes: 4\n",
      "[d3graph] INFO> Keep only edges with weight>0\n",
      "[d3graph] INFO> Converting source-target into adjacency matrix..\n",
      "[d3graph] INFO> Making the matrix symmetric..\n",
      "[d3graph] INFO> Number of unique nodes: 4\n",
      "[d3graph] INFO> Slider range is set to [0, 1]\n",
      "[d3graph] INFO> Write to path: [C:\\Users\\josep\\OneDrive - Queen's University Belfast\\Machine_Learning\\ke-project\\code\\vis-ex.html]\n",
      "[d3graph] INFO> File already exists and will be overwritten: [C:\\Users\\josep\\OneDrive - Queen's University Belfast\\Machine_Learning\\ke-project\\code\\vis-ex.html]\n"
     ]
    }
   ],
   "source": [
    "GraphVis(JD_node_pairs, './vis-ex.html')"
   ]
  },
  {
   "cell_type": "markdown",
   "id": "99f23911-092d-43f2-ad22-a104b70dea4f",
   "metadata": {},
   "source": [
    "Now I need to define the direction of these relations. \n"
   ]
  },
  {
   "cell_type": "code",
   "execution_count": 37,
   "id": "852cd6b0-a703-42b8-9e9d-c59f00cbbc88",
   "metadata": {},
   "outputs": [],
   "source": [
    "BN_vis = []\n",
    "BN_vis.append(('anatomy', 'gene/protein'))\n",
    "BN_vis.append(('anatomy', 'gene/protein'))\n",
    "BN_vis.append(('gene/protein', 'disease'))\n",
    "BN_vis.append(('disease', 'drug'))"
   ]
  },
  {
   "cell_type": "code",
   "execution_count": 38,
   "id": "4acb3679-339f-4324-a5f6-e21041fff6a6",
   "metadata": {},
   "outputs": [
    {
     "name": "stderr",
     "output_type": "stream",
     "text": [
      "[d3graph] INFO> Converting source-target into adjacency matrix..\n",
      "[d3graph] INFO> Making the matrix symmetric..\n",
      "[d3graph] INFO> Set directed=True to see the markers!\n",
      "[d3graph] INFO> Keep only edges with weight>0\n",
      "[d3graph] INFO> Converting source-target into adjacency matrix..\n",
      "[d3graph] INFO> Making the matrix symmetric..\n",
      "[d3graph] INFO> Converting adjacency matrix into source-target..\n",
      "[d3graph] INFO> Number of unique nodes: 4\n",
      "[d3graph] INFO> Keep only edges with weight>0\n",
      "[d3graph] INFO> Converting source-target into adjacency matrix..\n",
      "[d3graph] INFO> Making the matrix symmetric..\n",
      "[d3graph] INFO> Number of unique nodes: 4\n",
      "[d3graph] INFO> Slider range is set to [0, 2]\n",
      "[d3graph] INFO> Write to path: [C:\\Users\\josep\\OneDrive - Queen's University Belfast\\Machine_Learning\\ke-project\\code\\vis-ex.html]\n",
      "[d3graph] INFO> File already exists and will be overwritten: [C:\\Users\\josep\\OneDrive - Queen's University Belfast\\Machine_Learning\\ke-project\\code\\vis-ex.html]\n"
     ]
    }
   ],
   "source": [
    "GraphVis(BN_vis, './vis-ex.html')"
   ]
  },
  {
   "cell_type": "code",
   "execution_count": 39,
   "id": "66485894-a174-449e-a127-b0f55cd7216f",
   "metadata": {},
   "outputs": [],
   "source": [
    "BN_vis_P = []\n",
    "BN_vis_P.append(('anatomy', 'gene/protein', 0.9821))\n",
    "BN_vis_P.append(('gene/protein', 'disease', 0.0306 ))\n",
    "BN_vis_P.append(('disease', 'drug', 0.1174))"
   ]
  },
  {
   "cell_type": "code",
   "execution_count": 40,
   "id": "059bbc28-2893-45b4-aa88-d70b43da578f",
   "metadata": {},
   "outputs": [
    {
     "name": "stderr",
     "output_type": "stream",
     "text": [
      "[d3graph] INFO> Converting source-target into adjacency matrix..\n",
      "[d3graph] INFO> Making the matrix symmetric..\n",
      "[d3graph] INFO> Set directed=True to see the markers!\n",
      "[d3graph] INFO> Keep only edges with weight>0\n",
      "[d3graph] INFO> Converting source-target into adjacency matrix..\n",
      "[d3graph] INFO> Making the matrix symmetric..\n",
      "[d3graph] INFO> Converting adjacency matrix into source-target..\n",
      "[d3graph] INFO> Number of unique nodes: 4\n",
      "[d3graph] INFO> Keep only edges with weight>0\n",
      "[d3graph] INFO> Converting source-target into adjacency matrix..\n",
      "[d3graph] INFO> Making the matrix symmetric..\n",
      "[d3graph] INFO> Number of unique nodes: 4\n",
      "[d3graph] INFO> Slider range is set to [0, 1]\n",
      "[d3graph] INFO> Write to path: [C:\\Users\\josep\\OneDrive - Queen's University Belfast\\Machine_Learning\\ke-project\\code\\vis-ex.html]\n",
      "[d3graph] INFO> File already exists and will be overwritten: [C:\\Users\\josep\\OneDrive - Queen's University Belfast\\Machine_Learning\\ke-project\\code\\vis-ex.html]\n"
     ]
    }
   ],
   "source": [
    "GraphVis(BN_vis_P, './vis-ex.html')"
   ]
  },
  {
   "cell_type": "markdown",
   "id": "a9723b84-c459-4df6-a853-9b84627fea65",
   "metadata": {},
   "source": [
    "## 4.2 Probabilistic Inference "
   ]
  },
  {
   "cell_type": "code",
   "execution_count": 41,
   "id": "9b243652-526d-4a89-be4a-4a8473125e71",
   "metadata": {},
   "outputs": [],
   "source": [
    "# joint_freq: frequency of (x,y pair and their type), co_occurence x, y, x_type, y_type\n",
    "#for co_occurence in joint_freq.items():\n",
    "    #freq = joint_freq[co_occurence[0]]\n",
    "    #if freq > 2:\n",
    "        #print(co_occurence)"
   ]
  }
 ],
 "metadata": {
  "kernelspec": {
   "display_name": "Python 3 (ipykernel)",
   "language": "python",
   "name": "python3"
  },
  "language_info": {
   "codemirror_mode": {
    "name": "ipython",
    "version": 3
   },
   "file_extension": ".py",
   "mimetype": "text/x-python",
   "name": "python",
   "nbconvert_exporter": "python",
   "pygments_lexer": "ipython3",
   "version": "3.12.3"
  }
 },
 "nbformat": 4,
 "nbformat_minor": 5
}
